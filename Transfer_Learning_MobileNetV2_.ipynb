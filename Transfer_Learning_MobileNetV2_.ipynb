{
  "nbformat": 4,
  "nbformat_minor": 0,
  "metadata": {
    "colab": {
      "provenance": [],
      "authorship_tag": "ABX9TyPI1K6j81Y9+UlcgqiPnX7Y",
      "include_colab_link": true
    },
    "kernelspec": {
      "name": "python3",
      "display_name": "Python 3"
    },
    "language_info": {
      "name": "python"
    }
  },
  "cells": [
    {
      "cell_type": "markdown",
      "metadata": {
        "id": "view-in-github",
        "colab_type": "text"
      },
      "source": [
        "<a href=\"https://colab.research.google.com/github/MimaDalix/Deep-Learning-tensorflow/blob/main/Transfer_Learning_MobileNetV2_.ipynb\" target=\"_parent\"><img src=\"https://colab.research.google.com/assets/colab-badge.svg\" alt=\"Open In Colab\"/></a>"
      ]
    },
    {
      "cell_type": "markdown",
      "source": [
        "# Transfer Learning with MobileNetV2 "
      ],
      "metadata": {
        "id": "80UmCy7XLwAf"
      }
    },
    {
      "cell_type": "markdown",
      "source": [
        "## Downloading and becoming one with the data"
      ],
      "metadata": {
        "id": "pCgJaGO1MLZM"
      }
    },
    {
      "cell_type": "code",
      "source": [
        "# Get the data \n",
        "import zipfile\n",
        "\n",
        "# Download the data \n",
        "!wget https://storage.googleapis.com/ztm_tf_course/food_vision/10_food_classes_10_percent.zip \n",
        "\n",
        "# Unzip the downloaded file \n",
        "zip_ref = zipfile.ZipFile(\"10_food_classes_10_percent.zip\")\n",
        "zip_ref.extractall()\n",
        "zip_ref.close()"
      ],
      "metadata": {
        "colab": {
          "base_uri": "https://localhost:8080/"
        },
        "id": "OenqQRXvMTez",
        "outputId": "63b1106e-36c1-4d6b-d84c-187fe32d9f66"
      },
      "execution_count": 1,
      "outputs": [
        {
          "output_type": "stream",
          "name": "stdout",
          "text": [
            "--2022-10-15 19:51:21--  https://storage.googleapis.com/ztm_tf_course/food_vision/10_food_classes_10_percent.zip\n",
            "Resolving storage.googleapis.com (storage.googleapis.com)... 142.251.111.128, 142.251.16.128, 142.251.163.128, ...\n",
            "Connecting to storage.googleapis.com (storage.googleapis.com)|142.251.111.128|:443... connected.\n",
            "HTTP request sent, awaiting response... 200 OK\n",
            "Length: 168546183 (161M) [application/zip]\n",
            "Saving to: ‘10_food_classes_10_percent.zip’\n",
            "\n",
            "10_food_classes_10_ 100%[===================>] 160.74M   130MB/s    in 1.2s    \n",
            "\n",
            "2022-10-15 19:51:22 (130 MB/s) - ‘10_food_classes_10_percent.zip’ saved [168546183/168546183]\n",
            "\n"
          ]
        }
      ]
    },
    {
      "cell_type": "code",
      "source": [
        "# Count the images in each folder \n",
        "import os \n",
        "\n",
        "# Walk through 10 percent data directory and list number of files \n",
        "for dirpath, dirnames, filenames in os.walk(\"10_food_classes_10_percent\"):\n",
        "  print(f\"There are {len(dirpath)} directories and {len(filenames)} images in '{dirpath}'. \")"
      ],
      "metadata": {
        "colab": {
          "base_uri": "https://localhost:8080/"
        },
        "id": "2JRbQIuSM53n",
        "outputId": "2a8f5cc6-da1c-4e78-9d0f-1b18c9dc71bb"
      },
      "execution_count": 2,
      "outputs": [
        {
          "output_type": "stream",
          "name": "stdout",
          "text": [
            "There are 26 directories and 0 images in '10_food_classes_10_percent'. \n",
            "There are 32 directories and 0 images in '10_food_classes_10_percent/train'. \n",
            "There are 38 directories and 75 images in '10_food_classes_10_percent/train/ramen'. \n",
            "There are 38 directories and 75 images in '10_food_classes_10_percent/train/sushi'. \n",
            "There are 42 directories and 75 images in '10_food_classes_10_percent/train/hamburger'. \n",
            "There are 46 directories and 75 images in '10_food_classes_10_percent/train/chicken_curry'. \n",
            "There are 38 directories and 75 images in '10_food_classes_10_percent/train/steak'. \n",
            "There are 42 directories and 75 images in '10_food_classes_10_percent/train/ice_cream'. \n",
            "There are 38 directories and 75 images in '10_food_classes_10_percent/train/pizza'. \n",
            "There are 47 directories and 75 images in '10_food_classes_10_percent/train/grilled_salmon'. \n",
            "There are 43 directories and 75 images in '10_food_classes_10_percent/train/fried_rice'. \n",
            "There are 46 directories and 75 images in '10_food_classes_10_percent/train/chicken_wings'. \n",
            "There are 31 directories and 0 images in '10_food_classes_10_percent/test'. \n",
            "There are 37 directories and 250 images in '10_food_classes_10_percent/test/ramen'. \n",
            "There are 37 directories and 250 images in '10_food_classes_10_percent/test/sushi'. \n",
            "There are 41 directories and 250 images in '10_food_classes_10_percent/test/hamburger'. \n",
            "There are 45 directories and 250 images in '10_food_classes_10_percent/test/chicken_curry'. \n",
            "There are 37 directories and 250 images in '10_food_classes_10_percent/test/steak'. \n",
            "There are 41 directories and 250 images in '10_food_classes_10_percent/test/ice_cream'. \n",
            "There are 37 directories and 250 images in '10_food_classes_10_percent/test/pizza'. \n",
            "There are 46 directories and 250 images in '10_food_classes_10_percent/test/grilled_salmon'. \n",
            "There are 42 directories and 250 images in '10_food_classes_10_percent/test/fried_rice'. \n",
            "There are 45 directories and 250 images in '10_food_classes_10_percent/test/chicken_wings'. \n"
          ]
        }
      ]
    },
    {
      "cell_type": "markdown",
      "source": [
        "## Creating data loaders (Data Preparing)\n",
        "\n",
        "We'll use the `ImageDataGenerator` class to load in our data in batches."
      ],
      "metadata": {
        "id": "S1hYwpsDNv6w"
      }
    },
    {
      "cell_type": "code",
      "source": [
        "# Setup data inputs \n",
        "from tensorflow.keras.preprocessing.image import ImageDataGenerator\n",
        "\n",
        "IMAGE_SHAPE = (224, 224)\n",
        "BATCH_SIZE = 32\n",
        "\n",
        "train_dir = \"10_food_classes_10_percent/train/\"\n",
        "test_dir = \"10_food_classes_10_percent/test/\"\n",
        "\n",
        "train_datagen = ImageDataGenerator(rescale=1/255.)\n",
        "test_datagen = ImageDataGenerator(rescale=1/255.)\n",
        "\n",
        "print('Training images:')\n",
        "train_data_10_percent = train_datagen.flow_from_directory(train_dir,\n",
        "                                                          target_size=IMAGE_SHAPE,\n",
        "                                                          batch_size=BATCH_SIZE,\n",
        "                                                          class_mode='categorical')\n",
        "\n",
        "print('Testing images:')\n",
        "test_data = test_datagen.flow_from_directory(test_dir,\n",
        "                                             target_size=IMAGE_SHAPE,\n",
        "                                             batch_size=BATCH_SIZE,\n",
        "                                             class_mode='categorical')"
      ],
      "metadata": {
        "colab": {
          "base_uri": "https://localhost:8080/"
        },
        "id": "g0L2JhPqOCNh",
        "outputId": "9a2be8ad-6703-4a47-b865-2388f6f04b3b"
      },
      "execution_count": 3,
      "outputs": [
        {
          "output_type": "stream",
          "name": "stdout",
          "text": [
            "Training images:\n",
            "Found 750 images belonging to 10 classes.\n",
            "Testing images:\n",
            "Found 2500 images belonging to 10 classes.\n"
          ]
        }
      ]
    },
    {
      "cell_type": "code",
      "source": [
        "# Setting up a TensorBoard callback\n"
      ],
      "metadata": {
        "id": "wDDsYhNnQDi0"
      },
      "execution_count": null,
      "outputs": []
    },
    {
      "cell_type": "markdown",
      "source": [
        "## Creating the model using Tensorflow Hub"
      ],
      "metadata": {
        "id": "GzTT-E5VQQ4S"
      }
    },
    {
      "cell_type": "code",
      "source": [
        "# Get the url \n",
        "mobilenetV2_url = 'https://tfhub.dev/google/imagenet/mobilenet_v2_100_224/feature_vector/5' "
      ],
      "metadata": {
        "id": "4uPJK_oOQQzz"
      },
      "execution_count": 5,
      "outputs": []
    },
    {
      "cell_type": "code",
      "source": [
        "# Import the depedencies\n",
        "import tensorflow as tf \n",
        "import tensorflow_hub as hub\n",
        "from tensorflow.keras import layers"
      ],
      "metadata": {
        "id": "RKiWDdXqQ73c"
      },
      "execution_count": 4,
      "outputs": []
    },
    {
      "cell_type": "code",
      "source": [
        "# Let's reuse the create_model() function to create a model from a URL\n",
        "def create_model(model_url, num_classes):\n",
        "    \"\"\" \n",
        "    Takes a TensorFlow Hub URL and creates a Keras Sequential model with it.\n",
        "\n",
        "    Args:\n",
        "    model_url (str): A TensorFlwo Hub feature extraction URL.\n",
        "    num_classes (int): Number of output neurons in the output layer,\n",
        "    should be equal to number of target classes, default 10.\n",
        "\n",
        "    Returns:\n",
        "    An uncompiled Keras Sequential model with model_url as feature extractor \n",
        "    layer and Dense output layer with num_classes output neurons\n",
        "    \"\"\"\n",
        "    # Download the pretrained model and use it as a Keras layer\n",
        "    feature_extractor_layer = hub.KerasLayer(model_url,\n",
        "                                            trainable=False,\n",
        "                                            name='feature_extraction_layer',\n",
        "                                            input_shape=IMAGE_SHAPE+(3,))\n",
        "    \n",
        "    # Creating the model \n",
        "    model = tf.keras.Sequential([\n",
        "        feature_extractor_layer,\n",
        "        layers.Dense(num_classes, activation='softmax', name='output_layer')\n",
        "    ])\n",
        "\n",
        "    return model "
      ],
      "metadata": {
        "id": "Mm_rPX5CRIrP"
      },
      "execution_count": 9,
      "outputs": []
    },
    {
      "cell_type": "markdown",
      "source": [
        "## Creating and testing MobileNetV2 feature extraction model "
      ],
      "metadata": {
        "id": "tuiFZ5aRTH3S"
      }
    },
    {
      "cell_type": "code",
      "source": [
        "# Create MobileNet model \n",
        "mobilenet_model = create_model(mobilenetV2_url, num_classes=train_data_10_percent.num_classes)\n",
        "\n",
        "# Compile the model \n",
        "mobilenet_model.compile(loss='categorical_crossentropy',\n",
        "                        optimizer=tf.keras.optimizers.Adam(),\n",
        "                        metrics=['accuracy'])\n",
        "\n",
        "# Fit the model \n",
        "mobilenet_history = mobilenet_model.fit(train_data_10_percent,\n",
        "                                        epochs=5, \n",
        "                                        steps_per_epoch=len(train_data_10_percent),\n",
        "                                        validation_data=test_data,\n",
        "                                        validation_steps=len(test_data))"
      ],
      "metadata": {
        "colab": {
          "base_uri": "https://localhost:8080/"
        },
        "id": "9gp-PKHsTUr8",
        "outputId": "63d16b68-492d-456b-d700-ba5b2760f9ec"
      },
      "execution_count": 11,
      "outputs": [
        {
          "output_type": "stream",
          "name": "stdout",
          "text": [
            "Epoch 1/5\n",
            "24/24 [==============================] - 73s 3s/step - loss: 1.9284 - accuracy: 0.3480 - val_loss: 1.2747 - val_accuracy: 0.6032\n",
            "Epoch 2/5\n",
            "24/24 [==============================] - 68s 3s/step - loss: 1.0231 - accuracy: 0.7107 - val_loss: 0.8769 - val_accuracy: 0.7460\n",
            "Epoch 3/5\n",
            "24/24 [==============================] - 79s 3s/step - loss: 0.7197 - accuracy: 0.8107 - val_loss: 0.7421 - val_accuracy: 0.7728\n",
            "Epoch 4/5\n",
            "24/24 [==============================] - 68s 3s/step - loss: 0.5733 - accuracy: 0.8547 - val_loss: 0.7083 - val_accuracy: 0.7696\n",
            "Epoch 5/5\n",
            "24/24 [==============================] - 68s 3s/step - loss: 0.4826 - accuracy: 0.8880 - val_loss: 0.6352 - val_accuracy: 0.8052\n"
          ]
        }
      ]
    },
    {
      "cell_type": "code",
      "source": [
        "# Let's create a function to plot our loss curves \n",
        "# Tidbit you could put a function like this into a script called \"helper.py\" and import it when needed\n",
        "import matplotlib.pyplot as plt \n",
        "\n",
        "def plot_loss_curves(history):\n",
        "  \"\"\"\n",
        "  Return separate loss curves for training and validation metrics.\n",
        "\n",
        "  Args:\n",
        "    history: TensorFlow History object.\n",
        "\n",
        "  Returns:\n",
        "  Plots of training/validation loss and accuracy metrics.\n",
        "\n",
        "  \"\"\"\n",
        "  loss = history.history['loss']\n",
        "  val_loss = history.history['val_loss']\n",
        "\n",
        "  accuracy = history.history['accuracy']\n",
        "  val_accuracy = history.history['val_accuracy']\n",
        "\n",
        "  epochs = range(len(history.history['loss']))\n",
        "\n",
        "  # Plot loss \n",
        "  \n",
        "  plt.plot(epochs, loss, label='training_loss')\n",
        "  plt.plot(epochs, val_loss, label='validation_loss')\n",
        "  plt.title('loss')\n",
        "  plt.xlabel('epochs')\n",
        "  plt.legend()\n",
        "\n",
        "  # Plot the accuracy curve\n",
        "  plt.figure()\n",
        "  plt.plot(epochs, accuracy, label='training_accuracy')\n",
        "  plt.plot(epochs, val_accuracy, label='validation_accuracy')\n",
        "  plt.title('accuracy')\n",
        "  plt.xlabel('epochs')\n",
        "  plt.legend()"
      ],
      "metadata": {
        "id": "elLZG9SfVcao"
      },
      "execution_count": 12,
      "outputs": []
    },
    {
      "cell_type": "code",
      "source": [
        "plot_loss_curves(mobilenet_history)"
      ],
      "metadata": {
        "colab": {
          "base_uri": "https://localhost:8080/",
          "height": 573
        },
        "id": "o9q9LxMAWKl0",
        "outputId": "8919e435-5b3a-465b-9c68-192e1f22820e"
      },
      "execution_count": 13,
      "outputs": [
        {
          "output_type": "display_data",
          "data": {
            "text/plain": [
              "<Figure size 432x288 with 1 Axes>"
            ],
            "image/png": "[encoded data removed]"
          },
          "metadata": {
            "needs_background": "light"
          }
        },
        {
          "output_type": "display_data",
          "data": {
            "text/plain": [
              "<Figure size 432x288 with 1 Axes>"
            ],
            "image/png": "[encoded data removed]"
          },
          "metadata": {
            "needs_background": "light"
          }
        }
      ]
    }
  ]
}