{
  "nbformat": 4,
  "nbformat_minor": 0,
  "metadata": {
    "colab": {
      "provenance": [],
      "authorship_tag": "ABX9TyMpTeCI5OVk0aMENMnh5iIe",
      "include_colab_link": true
    },
    "kernelspec": {
      "name": "python3",
      "display_name": "Python 3"
    },
    "language_info": {
      "name": "python"
    }
  },
  "cells": [
    {
      "cell_type": "markdown",
      "metadata": {
        "id": "view-in-github",
        "colab_type": "text"
      },
      "source": [
        "<a href=\"https://colab.research.google.com/github/MimaDalix/Deep-Learning-tensorflow/blob/main/TF_Boston_regression.ipynb\" target=\"_parent\"><img src=\"https://colab.research.google.com/assets/colab-badge.svg\" alt=\"Open In Colab\"/></a>"
      ]
    },
    {
      "cell_type": "code",
      "execution_count": 1,
      "metadata": {
        "id": "aerJvgo_6kA7"
      },
      "outputs": [],
      "source": [
        "# Import the necessary libraries\n",
        "import pandas as pd\n",
        "import tensorflow as tf \n",
        "import numpy as np\n",
        "import matplotlib.pyplot as plt \n",
        "from tensorflow.keras.datasets import boston_housing"
      ]
    },
    {
      "cell_type": "code",
      "source": [
        "(X_train, y_train), (X_test, y_test) = boston_housing.load_data()\n",
        "y = np.concatenate((y_train, y_test))\n",
        "\n",
        "X_train.shape"
      ],
      "metadata": {
        "colab": {
          "base_uri": "https://localhost:8080/"
        },
        "id": "rwOb2sA07giv",
        "outputId": "ff39e0fc-75ca-4dac-ab0c-f4673da556ef"
      },
      "execution_count": 2,
      "outputs": [
        {
          "output_type": "stream",
          "name": "stdout",
          "text": [
            "Downloading data from https://storage.googleapis.com/tensorflow/tf-keras-datasets/boston_housing.npz\n",
            "57344/57026 [==============================] - 0s 0us/step\n",
            "65536/57026 [==================================] - 0s 0us/step\n"
          ]
        },
        {
          "output_type": "execute_result",
          "data": {
            "text/plain": [
              "(404, 13)"
            ]
          },
          "metadata": {},
          "execution_count": 2
        }
      ]
    },
    {
      "cell_type": "code",
      "source": [
        "# Setting the random seed\n",
        "tf.random.set_seed(42)\n",
        "\n",
        "# 1. Create the model\n",
        "model = tf.keras.Sequential([\n",
        "    tf.keras.layers.Dense(10),\n",
        "    tf.keras.layers.Dense(1)\n",
        "])\n",
        "\n",
        "# 2. Compile the model \n",
        "model.compile(loss=tf.keras.losses.mae,\n",
        "              optimizer=tf.keras.optimizers.Adam(),\n",
        "              metrics=['mae'])\n",
        "\n",
        "# 3. Fit the model \n",
        "model.fit(tf.expand_dims(X_train, axis=-1), y_train, epochs=100)"
      ],
      "metadata": {
        "colab": {
          "base_uri": "https://localhost:8080/"
        },
        "id": "wYHXZT7I6zbf",
        "outputId": "d69dd003-a90b-4635-db93-6113da95fc63"
      },
      "execution_count": 4,
      "outputs": [
        {
          "output_type": "stream",
          "name": "stdout",
          "text": [
            "Epoch 1/100\n",
            "13/13 [==============================] - 1s 3ms/step - loss: 32.2674 - mae: 32.2674\n",
            "Epoch 2/100\n",
            "13/13 [==============================] - 0s 2ms/step - loss: 27.5400 - mae: 27.5400\n",
            "Epoch 3/100\n",
            "13/13 [==============================] - 0s 2ms/step - loss: 23.3203 - mae: 23.3203\n",
            "Epoch 4/100\n",
            "13/13 [==============================] - 0s 2ms/step - loss: 20.1888 - mae: 20.1888\n",
            "Epoch 5/100\n",
            "13/13 [==============================] - 0s 2ms/step - loss: 19.6677 - mae: 19.6677\n",
            "Epoch 6/100\n",
            "13/13 [==============================] - 0s 2ms/step - loss: 19.4396 - mae: 19.4396\n",
            "Epoch 7/100\n",
            "13/13 [==============================] - 0s 2ms/step - loss: 19.3776 - mae: 19.3776\n",
            "Epoch 8/100\n",
            "13/13 [==============================] - 0s 2ms/step - loss: 19.3168 - mae: 19.3168\n",
            "Epoch 9/100\n",
            "13/13 [==============================] - 0s 2ms/step - loss: 19.2565 - mae: 19.2565\n",
            "Epoch 10/100\n",
            "13/13 [==============================] - 0s 2ms/step - loss: 19.2042 - mae: 19.2042\n",
            "Epoch 11/100\n",
            "13/13 [==============================] - 0s 2ms/step - loss: 19.1480 - mae: 19.1480\n",
            "Epoch 12/100\n",
            "13/13 [==============================] - 0s 2ms/step - loss: 19.1011 - mae: 19.1011\n",
            "Epoch 13/100\n",
            "13/13 [==============================] - 0s 2ms/step - loss: 19.0529 - mae: 19.0529\n",
            "Epoch 14/100\n",
            "13/13 [==============================] - 0s 2ms/step - loss: 18.9966 - mae: 18.9966\n",
            "Epoch 15/100\n",
            "13/13 [==============================] - 0s 2ms/step - loss: 18.9443 - mae: 18.9443\n",
            "Epoch 16/100\n",
            "13/13 [==============================] - 0s 2ms/step - loss: 18.8915 - mae: 18.8915\n",
            "Epoch 17/100\n",
            "13/13 [==============================] - 0s 2ms/step - loss: 18.8434 - mae: 18.8434\n",
            "Epoch 18/100\n",
            "13/13 [==============================] - 0s 2ms/step - loss: 18.7861 - mae: 18.7861\n",
            "Epoch 19/100\n",
            "13/13 [==============================] - 0s 2ms/step - loss: 18.7332 - mae: 18.7332\n",
            "Epoch 20/100\n",
            "13/13 [==============================] - 0s 2ms/step - loss: 18.6863 - mae: 18.6863\n",
            "Epoch 21/100\n",
            "13/13 [==============================] - 0s 2ms/step - loss: 18.6318 - mae: 18.6318\n",
            "Epoch 22/100\n",
            "13/13 [==============================] - 0s 2ms/step - loss: 18.5922 - mae: 18.5922\n",
            "Epoch 23/100\n",
            "13/13 [==============================] - 0s 2ms/step - loss: 18.5348 - mae: 18.5348\n",
            "Epoch 24/100\n",
            "13/13 [==============================] - 0s 2ms/step - loss: 18.4718 - mae: 18.4718\n",
            "Epoch 25/100\n",
            "13/13 [==============================] - 0s 2ms/step - loss: 18.4174 - mae: 18.4174\n",
            "Epoch 26/100\n",
            "13/13 [==============================] - 0s 2ms/step - loss: 18.3628 - mae: 18.3628\n",
            "Epoch 27/100\n",
            "13/13 [==============================] - 0s 2ms/step - loss: 18.3094 - mae: 18.3094\n",
            "Epoch 28/100\n",
            "13/13 [==============================] - 0s 2ms/step - loss: 18.2436 - mae: 18.2436\n",
            "Epoch 29/100\n",
            "13/13 [==============================] - 0s 2ms/step - loss: 18.1989 - mae: 18.1989\n",
            "Epoch 30/100\n",
            "13/13 [==============================] - 0s 2ms/step - loss: 18.1431 - mae: 18.1431\n",
            "Epoch 31/100\n",
            "13/13 [==============================] - 0s 3ms/step - loss: 18.0819 - mae: 18.0819\n",
            "Epoch 32/100\n",
            "13/13 [==============================] - 0s 2ms/step - loss: 18.0266 - mae: 18.0266\n",
            "Epoch 33/100\n",
            "13/13 [==============================] - 0s 2ms/step - loss: 17.9599 - mae: 17.9599\n",
            "Epoch 34/100\n",
            "13/13 [==============================] - 0s 2ms/step - loss: 17.8942 - mae: 17.8942\n",
            "Epoch 35/100\n",
            "13/13 [==============================] - 0s 2ms/step - loss: 17.8351 - mae: 17.8351\n",
            "Epoch 36/100\n",
            "13/13 [==============================] - 0s 2ms/step - loss: 17.7752 - mae: 17.7752\n",
            "Epoch 37/100\n",
            "13/13 [==============================] - 0s 2ms/step - loss: 17.7120 - mae: 17.7120\n",
            "Epoch 38/100\n",
            "13/13 [==============================] - 0s 2ms/step - loss: 17.6429 - mae: 17.6429\n",
            "Epoch 39/100\n",
            "13/13 [==============================] - 0s 2ms/step - loss: 17.5690 - mae: 17.5690\n",
            "Epoch 40/100\n",
            "13/13 [==============================] - 0s 2ms/step - loss: 17.5117 - mae: 17.5117\n",
            "Epoch 41/100\n",
            "13/13 [==============================] - 0s 2ms/step - loss: 17.4435 - mae: 17.4435\n",
            "Epoch 42/100\n",
            "13/13 [==============================] - 0s 3ms/step - loss: 17.3675 - mae: 17.3675\n",
            "Epoch 43/100\n",
            "13/13 [==============================] - 0s 2ms/step - loss: 17.3024 - mae: 17.3024\n",
            "Epoch 44/100\n",
            "13/13 [==============================] - 0s 2ms/step - loss: 17.2213 - mae: 17.2213\n",
            "Epoch 45/100\n",
            "13/13 [==============================] - 0s 2ms/step - loss: 17.1459 - mae: 17.1459\n",
            "Epoch 46/100\n",
            "13/13 [==============================] - 0s 2ms/step - loss: 17.0631 - mae: 17.0631\n",
            "Epoch 47/100\n",
            "13/13 [==============================] - 0s 2ms/step - loss: 16.9855 - mae: 16.9855\n",
            "Epoch 48/100\n",
            "13/13 [==============================] - 0s 2ms/step - loss: 16.9036 - mae: 16.9036\n",
            "Epoch 49/100\n",
            "13/13 [==============================] - 0s 2ms/step - loss: 16.8423 - mae: 16.8423\n",
            "Epoch 50/100\n",
            "13/13 [==============================] - 0s 2ms/step - loss: 16.7565 - mae: 16.7565\n",
            "Epoch 51/100\n",
            "13/13 [==============================] - 0s 2ms/step - loss: 16.6707 - mae: 16.6707\n",
            "Epoch 52/100\n",
            "13/13 [==============================] - 0s 2ms/step - loss: 16.6039 - mae: 16.6039\n",
            "Epoch 53/100\n",
            "13/13 [==============================] - 0s 2ms/step - loss: 16.5153 - mae: 16.5153\n",
            "Epoch 54/100\n",
            "13/13 [==============================] - 0s 2ms/step - loss: 16.4297 - mae: 16.4297\n",
            "Epoch 55/100\n",
            "13/13 [==============================] - 0s 2ms/step - loss: 16.2984 - mae: 16.2984\n",
            "Epoch 56/100\n",
            "13/13 [==============================] - 0s 2ms/step - loss: 16.2139 - mae: 16.2139\n",
            "Epoch 57/100\n",
            "13/13 [==============================] - 0s 3ms/step - loss: 16.1210 - mae: 16.1210\n",
            "Epoch 58/100\n",
            "13/13 [==============================] - 0s 2ms/step - loss: 16.0291 - mae: 16.0291\n",
            "Epoch 59/100\n",
            "13/13 [==============================] - 0s 2ms/step - loss: 15.9144 - mae: 15.9144\n",
            "Epoch 60/100\n",
            "13/13 [==============================] - 0s 2ms/step - loss: 15.8166 - mae: 15.8166\n",
            "Epoch 61/100\n",
            "13/13 [==============================] - 0s 2ms/step - loss: 15.7214 - mae: 15.7214\n",
            "Epoch 62/100\n",
            "13/13 [==============================] - 0s 2ms/step - loss: 15.6130 - mae: 15.6130\n",
            "Epoch 63/100\n",
            "13/13 [==============================] - 0s 2ms/step - loss: 15.5151 - mae: 15.5151\n",
            "Epoch 64/100\n",
            "13/13 [==============================] - 0s 2ms/step - loss: 15.3883 - mae: 15.3883\n",
            "Epoch 65/100\n",
            "13/13 [==============================] - 0s 2ms/step - loss: 15.2759 - mae: 15.2759\n",
            "Epoch 66/100\n",
            "13/13 [==============================] - 0s 2ms/step - loss: 15.1574 - mae: 15.1574\n",
            "Epoch 67/100\n",
            "13/13 [==============================] - 0s 2ms/step - loss: 15.0345 - mae: 15.0345\n",
            "Epoch 68/100\n",
            "13/13 [==============================] - 0s 2ms/step - loss: 14.9480 - mae: 14.9480\n",
            "Epoch 69/100\n",
            "13/13 [==============================] - 0s 2ms/step - loss: 14.8108 - mae: 14.8108\n",
            "Epoch 70/100\n",
            "13/13 [==============================] - 0s 2ms/step - loss: 14.6868 - mae: 14.6868\n",
            "Epoch 71/100\n",
            "13/13 [==============================] - 0s 2ms/step - loss: 14.5616 - mae: 14.5616\n",
            "Epoch 72/100\n",
            "13/13 [==============================] - 0s 2ms/step - loss: 14.4718 - mae: 14.4718\n",
            "Epoch 73/100\n",
            "13/13 [==============================] - 0s 2ms/step - loss: 14.3339 - mae: 14.3339\n",
            "Epoch 74/100\n",
            "13/13 [==============================] - 0s 2ms/step - loss: 14.1720 - mae: 14.1720\n",
            "Epoch 75/100\n",
            "13/13 [==============================] - 0s 2ms/step - loss: 14.0507 - mae: 14.0507\n",
            "Epoch 76/100\n",
            "13/13 [==============================] - 0s 3ms/step - loss: 13.9214 - mae: 13.9214\n",
            "Epoch 77/100\n",
            "13/13 [==============================] - 0s 2ms/step - loss: 13.8123 - mae: 13.8123\n",
            "Epoch 78/100\n",
            "13/13 [==============================] - 0s 2ms/step - loss: 13.6829 - mae: 13.6829\n",
            "Epoch 79/100\n",
            "13/13 [==============================] - 0s 2ms/step - loss: 13.5433 - mae: 13.5433\n",
            "Epoch 80/100\n",
            "13/13 [==============================] - 0s 2ms/step - loss: 13.3744 - mae: 13.3744\n",
            "Epoch 81/100\n",
            "13/13 [==============================] - 0s 2ms/step - loss: 13.2467 - mae: 13.2467\n",
            "Epoch 82/100\n",
            "13/13 [==============================] - 0s 2ms/step - loss: 13.0913 - mae: 13.0913\n",
            "Epoch 83/100\n",
            "13/13 [==============================] - 0s 2ms/step - loss: 12.9523 - mae: 12.9523\n",
            "Epoch 84/100\n",
            "13/13 [==============================] - 0s 2ms/step - loss: 12.8145 - mae: 12.8145\n",
            "Epoch 85/100\n",
            "13/13 [==============================] - 0s 2ms/step - loss: 12.6779 - mae: 12.6779\n",
            "Epoch 86/100\n",
            "13/13 [==============================] - 0s 2ms/step - loss: 12.5275 - mae: 12.5275\n",
            "Epoch 87/100\n",
            "13/13 [==============================] - 0s 2ms/step - loss: 12.3811 - mae: 12.3811\n",
            "Epoch 88/100\n",
            "13/13 [==============================] - 0s 2ms/step - loss: 12.2363 - mae: 12.2363\n",
            "Epoch 89/100\n",
            "13/13 [==============================] - 0s 2ms/step - loss: 12.1335 - mae: 12.1335\n",
            "Epoch 90/100\n",
            "13/13 [==============================] - 0s 2ms/step - loss: 11.9769 - mae: 11.9769\n",
            "Epoch 91/100\n",
            "13/13 [==============================] - 0s 2ms/step - loss: 11.8152 - mae: 11.8152\n",
            "Epoch 92/100\n",
            "13/13 [==============================] - 0s 2ms/step - loss: 11.6514 - mae: 11.6514\n",
            "Epoch 93/100\n",
            "13/13 [==============================] - 0s 2ms/step - loss: 11.4912 - mae: 11.4912\n",
            "Epoch 94/100\n",
            "13/13 [==============================] - 0s 2ms/step - loss: 11.3306 - mae: 11.3306\n",
            "Epoch 95/100\n",
            "13/13 [==============================] - 0s 2ms/step - loss: 11.1861 - mae: 11.1861\n",
            "Epoch 96/100\n",
            "13/13 [==============================] - 0s 2ms/step - loss: 11.0406 - mae: 11.0406\n",
            "Epoch 97/100\n",
            "13/13 [==============================] - 0s 2ms/step - loss: 10.8990 - mae: 10.8990\n",
            "Epoch 98/100\n",
            "13/13 [==============================] - 0s 2ms/step - loss: 10.7401 - mae: 10.7401\n",
            "Epoch 99/100\n",
            "13/13 [==============================] - 0s 2ms/step - loss: 10.5971 - mae: 10.5971\n",
            "Epoch 100/100\n",
            "13/13 [==============================] - 0s 3ms/step - loss: 10.4519 - mae: 10.4519\n"
          ]
        },
        {
          "output_type": "execute_result",
          "data": {
            "text/plain": [
              "<keras.callbacks.History at 0x7fc6db514a50>"
            ]
          },
          "metadata": {},
          "execution_count": 4
        }
      ]
    },
    {
      "cell_type": "code",
      "source": [
        "model.evaluate(X_test, y_test)"
      ],
      "metadata": {
        "colab": {
          "base_uri": "https://localhost:8080/"
        },
        "id": "9n8mpKbT9FM8",
        "outputId": "c9892030-5ba6-4896-dfbe-68ffb430b24e"
      },
      "execution_count": 6,
      "outputs": [
        {
          "output_type": "stream",
          "name": "stdout",
          "text": [
            "4/4 [==============================] - 0s 3ms/step - loss: 11.2200 - mae: 11.2200\n"
          ]
        },
        {
          "output_type": "execute_result",
          "data": {
            "text/plain": [
              "[11.219953536987305, 11.219954490661621]"
            ]
          },
          "metadata": {},
          "execution_count": 6
        }
      ]
    }
  ]
}