{
  "nbformat": 4,
  "nbformat_minor": 0,
  "metadata": {
    "colab": {
      "provenance": [],
      "authorship_tag": "ABX9TyNvGF5R91WstG9HDQB6m4nL",
      "include_colab_link": true
    },
    "kernelspec": {
      "name": "python3",
      "display_name": "Python 3"
    },
    "language_info": {
      "name": "python"
    }
  },
  "cells": [
    {
      "cell_type": "markdown",
      "metadata": {
        "id": "view-in-github",
        "colab_type": "text"
      },
      "source": [
        "<a href=\"https://colab.research.google.com/github/MimaDalix/Deep-Learning-tensorflow/blob/main/Exo_5_hidden_layers.ipynb\" target=\"_parent\"><img src=\"https://colab.research.google.com/assets/colab-badge.svg\" alt=\"Open In Colab\"/></a>"
      ]
    },
    {
      "cell_type": "markdown",
      "source": [
        "## Creating data to view and fit "
      ],
      "metadata": {
        "id": "w03mC7CAKQqc"
      }
    },
    {
      "cell_type": "code",
      "source": [
        "# Importing the necessary libraries\n",
        "import numpy as np\n",
        "import matplotlib.pyplot as plt\n",
        "from sklearn.datasets import make_moons\n",
        "import tensorflow as tf"
      ],
      "metadata": {
        "id": "7KuaIrNBKcXX"
      },
      "execution_count": 15,
      "outputs": []
    },
    {
      "cell_type": "code",
      "source": [
        "X, y = make_moons()\n",
        "X.shape, y.shape"
      ],
      "metadata": {
        "colab": {
          "base_uri": "https://localhost:8080/"
        },
        "id": "xheoq-wdN3yM",
        "outputId": "20c86256-ae01-4e3d-9e45-9aa5d79d7158"
      },
      "execution_count": null,
      "outputs": [
        {
          "output_type": "execute_result",
          "data": {
            "text/plain": [
              "((100, 2), (100,))"
            ]
          },
          "metadata": {},
          "execution_count": 6
        }
      ]
    },
    {
      "cell_type": "code",
      "source": [
        "# Splitting data into training and test set \n",
        "X_train = X[:80]\n",
        "X_test = X[80:]\n",
        "y_train = y[:80]\n",
        "y_test = y[80:]\n",
        "\n",
        "X_train.shape, X_test.shape, y_train.shape, y_test.shape"
      ],
      "metadata": {
        "id": "WB87dzPuO5tl",
        "outputId": "d562ccb6-36eb-48b6-baec-04e16ac9fc20",
        "colab": {
          "base_uri": "https://localhost:8080/"
        }
      },
      "execution_count": null,
      "outputs": [
        {
          "output_type": "execute_result",
          "data": {
            "text/plain": [
              "((80, 2), (20, 2), (80,), (20,))"
            ]
          },
          "metadata": {},
          "execution_count": 9
        }
      ]
    },
    {
      "cell_type": "markdown",
      "source": [
        "## Building the classifier "
      ],
      "metadata": {
        "id": "X6M73uOsPcd6"
      }
    },
    {
      "cell_type": "code",
      "source": [
        "# Setting the random seed\n",
        "tf.random.set_seed(42)\n",
        "\n",
        "# 1. Create the model \n",
        "model = tf.keras.Sequential([\n",
        "    #tf.keras.layers.Flatten(input_shape=()),\n",
        "    tf.keras.layers.Dense(4, activation='relu'),\n",
        "    tf.keras.layers.Dense(4, activation='relu'),\n",
        "    tf.keras.layers.Dense(1, activation='sigmoid')\n",
        "])\n",
        "\n",
        "# 2. Compile the model\n",
        "model.compile(loss='binary_crossentropy',\n",
        "              optimizer=tf.keras.optimizers.Adam(),\n",
        "              metrics=['accuracy'])\n",
        "\n",
        "  \n",
        "# 3. Fit the model \n",
        "history = model.fit(X_train, y_train, epochs=25, validation_data=(X_test, y_test))"
      ],
      "metadata": {
        "colab": {
          "base_uri": "https://localhost:8080/"
        },
        "id": "LQbRLF2wQFXx",
        "outputId": "55bb3dc0-90ae-435f-bf1a-47eb2994b7fd"
      },
      "execution_count": 11,
      "outputs": [
        {
          "output_type": "stream",
          "name": "stdout",
          "text": [
            "Epoch 1/25\n",
            "3/3 [==============================] - 1s 95ms/step - loss: 0.6938 - accuracy: 0.5250 - val_loss: 0.7309 - val_accuracy: 0.4000\n",
            "Epoch 2/25\n",
            "3/3 [==============================] - 0s 14ms/step - loss: 0.6885 - accuracy: 0.5250 - val_loss: 0.7245 - val_accuracy: 0.4000\n",
            "Epoch 3/25\n",
            "3/3 [==============================] - 0s 14ms/step - loss: 0.6834 - accuracy: 0.5250 - val_loss: 0.7182 - val_accuracy: 0.4000\n",
            "Epoch 4/25\n",
            "3/3 [==============================] - 0s 14ms/step - loss: 0.6782 - accuracy: 0.5250 - val_loss: 0.7120 - val_accuracy: 0.4000\n",
            "Epoch 5/25\n",
            "3/3 [==============================] - 0s 15ms/step - loss: 0.6735 - accuracy: 0.5375 - val_loss: 0.7058 - val_accuracy: 0.4000\n",
            "Epoch 6/25\n",
            "3/3 [==============================] - 0s 16ms/step - loss: 0.6684 - accuracy: 0.5375 - val_loss: 0.6997 - val_accuracy: 0.4000\n",
            "Epoch 7/25\n",
            "3/3 [==============================] - 0s 14ms/step - loss: 0.6635 - accuracy: 0.5375 - val_loss: 0.6938 - val_accuracy: 0.4000\n",
            "Epoch 8/25\n",
            "3/3 [==============================] - 0s 14ms/step - loss: 0.6590 - accuracy: 0.5500 - val_loss: 0.6881 - val_accuracy: 0.4000\n",
            "Epoch 9/25\n",
            "3/3 [==============================] - 0s 14ms/step - loss: 0.6540 - accuracy: 0.5500 - val_loss: 0.6825 - val_accuracy: 0.4000\n",
            "Epoch 10/25\n",
            "3/3 [==============================] - 0s 15ms/step - loss: 0.6496 - accuracy: 0.5500 - val_loss: 0.6769 - val_accuracy: 0.4000\n",
            "Epoch 11/25\n",
            "3/3 [==============================] - 0s 14ms/step - loss: 0.6450 - accuracy: 0.5500 - val_loss: 0.6715 - val_accuracy: 0.4000\n",
            "Epoch 12/25\n",
            "3/3 [==============================] - 0s 21ms/step - loss: 0.6407 - accuracy: 0.5625 - val_loss: 0.6662 - val_accuracy: 0.4000\n",
            "Epoch 13/25\n",
            "3/3 [==============================] - 0s 16ms/step - loss: 0.6362 - accuracy: 0.5625 - val_loss: 0.6611 - val_accuracy: 0.4000\n",
            "Epoch 14/25\n",
            "3/3 [==============================] - 0s 15ms/step - loss: 0.6319 - accuracy: 0.5625 - val_loss: 0.6560 - val_accuracy: 0.4000\n",
            "Epoch 15/25\n",
            "3/3 [==============================] - 0s 17ms/step - loss: 0.6278 - accuracy: 0.5750 - val_loss: 0.6509 - val_accuracy: 0.4000\n",
            "Epoch 16/25\n",
            "3/3 [==============================] - 0s 16ms/step - loss: 0.6235 - accuracy: 0.5750 - val_loss: 0.6461 - val_accuracy: 0.4000\n",
            "Epoch 17/25\n",
            "3/3 [==============================] - 0s 14ms/step - loss: 0.6198 - accuracy: 0.5625 - val_loss: 0.6413 - val_accuracy: 0.4000\n",
            "Epoch 18/25\n",
            "3/3 [==============================] - 0s 23ms/step - loss: 0.6155 - accuracy: 0.5625 - val_loss: 0.6366 - val_accuracy: 0.3500\n",
            "Epoch 19/25\n",
            "3/3 [==============================] - 0s 14ms/step - loss: 0.6116 - accuracy: 0.5750 - val_loss: 0.6319 - val_accuracy: 0.3500\n",
            "Epoch 20/25\n",
            "3/3 [==============================] - 0s 14ms/step - loss: 0.6079 - accuracy: 0.5625 - val_loss: 0.6273 - val_accuracy: 0.3500\n",
            "Epoch 21/25\n",
            "3/3 [==============================] - 0s 14ms/step - loss: 0.6040 - accuracy: 0.5625 - val_loss: 0.6227 - val_accuracy: 0.3500\n",
            "Epoch 22/25\n",
            "3/3 [==============================] - 0s 14ms/step - loss: 0.6002 - accuracy: 0.5750 - val_loss: 0.6180 - val_accuracy: 0.3500\n",
            "Epoch 23/25\n",
            "3/3 [==============================] - 0s 14ms/step - loss: 0.5965 - accuracy: 0.5750 - val_loss: 0.6135 - val_accuracy: 0.3500\n",
            "Epoch 24/25\n",
            "3/3 [==============================] - 0s 15ms/step - loss: 0.5926 - accuracy: 0.5875 - val_loss: 0.6091 - val_accuracy: 0.4000\n",
            "Epoch 25/25\n",
            "3/3 [==============================] - 0s 15ms/step - loss: 0.5892 - accuracy: 0.6000 - val_loss: 0.6046 - val_accuracy: 0.4000\n"
          ]
        }
      ]
    },
    {
      "cell_type": "markdown",
      "source": [
        "## Evaluating our classifier"
      ],
      "metadata": {
        "id": "KMmeBt-PWYPh"
      }
    },
    {
      "cell_type": "code",
      "source": [
        "# Evaluating the classifier \n",
        "model.evaluate(X_test, y_test)"
      ],
      "metadata": {
        "colab": {
          "base_uri": "https://localhost:8080/"
        },
        "id": "n9kObBajVKdL",
        "outputId": "6a6a0e9f-1d15-49ec-c415-59a05bfa6213"
      },
      "execution_count": 13,
      "outputs": [
        {
          "output_type": "stream",
          "name": "stdout",
          "text": [
            "1/1 [==============================] - 0s 26ms/step - loss: 0.6046 - accuracy: 0.4000\n"
          ]
        },
        {
          "output_type": "execute_result",
          "data": {
            "text/plain": [
              "[0.6046432256698608, 0.4000000059604645]"
            ]
          },
          "metadata": {},
          "execution_count": 13
        }
      ]
    },
    {
      "cell_type": "markdown",
      "source": [
        "## Let's visualize our model's predictions"
      ],
      "metadata": {
        "id": "yO7ZyJEHWcq1"
      }
    },
    {
      "cell_type": "code",
      "source": [
        "def plot_decision_boundary(model, X, y):\n",
        "  '''\n",
        "  Plots the decision boundary created by a model predicting X\n",
        "  '''\n",
        "  # Define the axis boundaries of the plot and create a meshgrid\n",
        "  x_min, x_max = X[:, 0].min() - 0.1, X[:, 0].max() + 0.1\n",
        "  y_min, y_max = X[:, 1].min() - 0.1, X[:, 1].max() + 0.1\n",
        "  xx, yy = np.meshgrid(np.linspace(x_min, x_max, 100),\n",
        "                       np.linspace(y_min, y_max, 100))\n",
        "  \n",
        "  # Create X values (we're going to make predictions on these)\n",
        "  x_in = np.c_[xx.ravel(), yy.ravel()]  # stack 2D arrays together \n",
        "\n",
        "  # Make predictions\n",
        "  y_pred = model.predict(x_in)\n",
        "\n",
        "  # Check for multi-class\n",
        "  if len(y_pred[0])> 1:\n",
        "    print(\"doing multi-class classification\")\n",
        "    # We have to reshape our prediction to get them ready for plotting\n",
        "    y_pred = np.argmax(y_pred, axis=1).reshape(xx.shape)\n",
        "  else:\n",
        "    print('doing binary classification')\n",
        "    y_pred= np.round(y_pred).reshape(xx.shape)\n",
        "\n",
        "  # Plot the decision boundary \n",
        "  plt.contourf(xx, yy, y_pred, cmap=plt.cm.RdYlBu, alpha= 0.7)\n",
        "  plt.scatter(X[:, 0], X[:, 1], c=y, s=40, cmap=plt.cm.RdYlBu)\n",
        "  plt.xlim(xx.min(), xx.max())\n",
        "  plt.ylim(yy.min(), yy.max())"
      ],
      "metadata": {
        "id": "bl1yCBKaVX7j"
      },
      "execution_count": 17,
      "outputs": []
    },
    {
      "cell_type": "code",
      "source": [
        "plot_decision_boundary(model, X_train, y_train)"
      ],
      "metadata": {
        "colab": {
          "base_uri": "https://localhost:8080/",
          "height": 283
        },
        "id": "5T15F6n7Vw-y",
        "outputId": "d575ccec-af65-40ab-e615-9b3b80a9dd06"
      },
      "execution_count": 18,
      "outputs": [
        {
          "output_type": "stream",
          "name": "stdout",
          "text": [
            "doing binary classification\n"
          ]
        },
        {
          "output_type": "display_data",
          "data": {
            "text/plain": [
              "<Figure size 432x288 with 1 Axes>"
            ],
            "image/png": "[encoded data removed]"
          },
          "metadata": {
            "needs_background": "light"
          }
        }
      ]
    },
    {
      "cell_type": "code",
      "source": [
        "plot_decision_boundary(model, X_test, y_test)"
      ],
      "metadata": {
        "colab": {
          "base_uri": "https://localhost:8080/",
          "height": 283
        },
        "id": "k6avqSybWAw8",
        "outputId": "cbf15b8e-fa6a-4b52-e084-c58e692fe6a7"
      },
      "execution_count": 19,
      "outputs": [
        {
          "output_type": "stream",
          "name": "stdout",
          "text": [
            "doing binary classification\n"
          ]
        },
        {
          "output_type": "display_data",
          "data": {
            "text/plain": [
              "<Figure size 432x288 with 1 Axes>"
            ],
            "image/png": "[encoded data removed]"
          },
          "metadata": {
            "needs_background": "light"
          }
        }
      ]
    },
    {
      "cell_type": "markdown",
      "source": [
        "## Normalizing the data "
      ],
      "metadata": {
        "id": "zyTIKBvdWTCo"
      }
    },
    {
      "cell_type": "code",
      "source": [
        "# Check the min and the max values of our training data\n",
        "X_train.min(), X_train.max()"
      ],
      "metadata": {
        "colab": {
          "base_uri": "https://localhost:8080/"
        },
        "id": "74x-fWPaWmbE",
        "outputId": "49243449-54a9-47eb-edc0-30b1d90c1bda"
      },
      "execution_count": 21,
      "outputs": [
        {
          "output_type": "execute_result",
          "data": {
            "text/plain": [
              "(-1.0, 2.0)"
            ]
          },
          "metadata": {},
          "execution_count": 21
        }
      ]
    },
    {
      "cell_type": "code",
      "source": [
        "# We can get our training and testing data between 0 & 1 by dividing by the maximum \n",
        "X_train_norm = X_train / 2.0\n",
        "X_test_norm = X_test / 2.0\n",
        "\n",
        "# Check the min and max of the normalized data\n",
        "X_train_norm.min(), X_train_norm.max()\n",
        "\n"
      ],
      "metadata": {
        "colab": {
          "base_uri": "https://localhost:8080/"
        },
        "id": "tJ3to5HAXSYF",
        "outputId": "137525a0-06f7-4b65-dcb5-f63a535aea03"
      },
      "execution_count": 28,
      "outputs": [
        {
          "output_type": "execute_result",
          "data": {
            "text/plain": [
              "(-0.5, 1.0)"
            ]
          },
          "metadata": {},
          "execution_count": 28
        }
      ]
    },
    {
      "cell_type": "markdown",
      "source": [
        "## Building a model using normalized data"
      ],
      "metadata": {
        "id": "zNDwseC8X7Yj"
      }
    },
    {
      "cell_type": "code",
      "source": [
        "# Setting the random seed\n",
        "tf.random.set_seed(42)\n",
        "\n",
        "# 1. Creating the model \n",
        "model_2 = tf.keras.Sequential([\n",
        "    tf.keras.layers.Dense(4, activation='relu'),\n",
        "    tf.keras.layers.Dense(4, activation='relu'),\n",
        "    tf.keras.layers.Dense(1, activation='sigmoid')\n",
        "])\n",
        "\n",
        "# 2. Compile the model \n",
        "model_2.compile(loss='binary_crossentropy',\n",
        "                optimizer=tf.keras.optimizers.Adam(),\n",
        "                metrics=['accuracy'])\n",
        "\n",
        "# 3. Fit the model \n",
        "history_norm = model_2.fit(X_train_norm,\n",
        "                           y_train,\n",
        "                           epochs=50,\n",
        "                           validation_data=(X_test_norm, y_test))"
      ],
      "metadata": {
        "colab": {
          "base_uri": "https://localhost:8080/"
        },
        "id": "6S8Ujl9DYEeC",
        "outputId": "b901d024-732f-4b95-f930-88ee42a5a18d"
      },
      "execution_count": 31,
      "outputs": [
        {
          "output_type": "stream",
          "name": "stdout",
          "text": [
            "Epoch 1/50\n",
            "3/3 [==============================] - 1s 83ms/step - loss: 0.6887 - accuracy: 0.5250 - val_loss: 0.7065 - val_accuracy: 0.4000\n",
            "Epoch 2/50\n",
            "3/3 [==============================] - 0s 17ms/step - loss: 0.6852 - accuracy: 0.5250 - val_loss: 0.7025 - val_accuracy: 0.4000\n",
            "Epoch 3/50\n",
            "3/3 [==============================] - 0s 14ms/step - loss: 0.6817 - accuracy: 0.5250 - val_loss: 0.6986 - val_accuracy: 0.4000\n",
            "Epoch 4/50\n",
            "3/3 [==============================] - 0s 14ms/step - loss: 0.6783 - accuracy: 0.5250 - val_loss: 0.6947 - val_accuracy: 0.4000\n",
            "Epoch 5/50\n",
            "3/3 [==============================] - 0s 15ms/step - loss: 0.6750 - accuracy: 0.5250 - val_loss: 0.6908 - val_accuracy: 0.4000\n",
            "Epoch 6/50\n",
            "3/3 [==============================] - 0s 20ms/step - loss: 0.6716 - accuracy: 0.5375 - val_loss: 0.6871 - val_accuracy: 0.4000\n",
            "Epoch 7/50\n",
            "3/3 [==============================] - 0s 15ms/step - loss: 0.6682 - accuracy: 0.5375 - val_loss: 0.6834 - val_accuracy: 0.4000\n",
            "Epoch 8/50\n",
            "3/3 [==============================] - 0s 14ms/step - loss: 0.6651 - accuracy: 0.5375 - val_loss: 0.6797 - val_accuracy: 0.4000\n",
            "Epoch 9/50\n",
            "3/3 [==============================] - 0s 13ms/step - loss: 0.6617 - accuracy: 0.5500 - val_loss: 0.6761 - val_accuracy: 0.4000\n",
            "Epoch 10/50\n",
            "3/3 [==============================] - 0s 13ms/step - loss: 0.6586 - accuracy: 0.5500 - val_loss: 0.6724 - val_accuracy: 0.4000\n",
            "Epoch 11/50\n",
            "3/3 [==============================] - 0s 13ms/step - loss: 0.6554 - accuracy: 0.5500 - val_loss: 0.6688 - val_accuracy: 0.4000\n",
            "Epoch 12/50\n",
            "3/3 [==============================] - 0s 14ms/step - loss: 0.6524 - accuracy: 0.5625 - val_loss: 0.6653 - val_accuracy: 0.4000\n",
            "Epoch 13/50\n",
            "3/3 [==============================] - 0s 23ms/step - loss: 0.6493 - accuracy: 0.5625 - val_loss: 0.6620 - val_accuracy: 0.4000\n",
            "Epoch 14/50\n",
            "3/3 [==============================] - 0s 15ms/step - loss: 0.6462 - accuracy: 0.5750 - val_loss: 0.6585 - val_accuracy: 0.4000\n",
            "Epoch 15/50\n",
            "3/3 [==============================] - 0s 15ms/step - loss: 0.6432 - accuracy: 0.5750 - val_loss: 0.6551 - val_accuracy: 0.4000\n",
            "Epoch 16/50\n",
            "3/3 [==============================] - 0s 14ms/step - loss: 0.6402 - accuracy: 0.5500 - val_loss: 0.6518 - val_accuracy: 0.4000\n",
            "Epoch 17/50\n",
            "3/3 [==============================] - 0s 15ms/step - loss: 0.6376 - accuracy: 0.5500 - val_loss: 0.6484 - val_accuracy: 0.4000\n",
            "Epoch 18/50\n",
            "3/3 [==============================] - 0s 13ms/step - loss: 0.6344 - accuracy: 0.5500 - val_loss: 0.6450 - val_accuracy: 0.4000\n",
            "Epoch 19/50\n",
            "3/3 [==============================] - 0s 17ms/step - loss: 0.6317 - accuracy: 0.5625 - val_loss: 0.6417 - val_accuracy: 0.4000\n",
            "Epoch 20/50\n",
            "3/3 [==============================] - 0s 13ms/step - loss: 0.6289 - accuracy: 0.5625 - val_loss: 0.6384 - val_accuracy: 0.4000\n",
            "Epoch 21/50\n",
            "3/3 [==============================] - 0s 13ms/step - loss: 0.6261 - accuracy: 0.5625 - val_loss: 0.6350 - val_accuracy: 0.5000\n",
            "Epoch 22/50\n",
            "3/3 [==============================] - 0s 14ms/step - loss: 0.6233 - accuracy: 0.5625 - val_loss: 0.6316 - val_accuracy: 0.5000\n",
            "Epoch 23/50\n",
            "3/3 [==============================] - 0s 13ms/step - loss: 0.6205 - accuracy: 0.5625 - val_loss: 0.6283 - val_accuracy: 0.6000\n",
            "Epoch 24/50\n",
            "3/3 [==============================] - 0s 14ms/step - loss: 0.6177 - accuracy: 0.5750 - val_loss: 0.6251 - val_accuracy: 0.6500\n",
            "Epoch 25/50\n",
            "3/3 [==============================] - 0s 13ms/step - loss: 0.6150 - accuracy: 0.5875 - val_loss: 0.6219 - val_accuracy: 0.6500\n",
            "Epoch 26/50\n",
            "3/3 [==============================] - 0s 13ms/step - loss: 0.6124 - accuracy: 0.5875 - val_loss: 0.6187 - val_accuracy: 0.7000\n",
            "Epoch 27/50\n",
            "3/3 [==============================] - 0s 13ms/step - loss: 0.6096 - accuracy: 0.6125 - val_loss: 0.6156 - val_accuracy: 0.7000\n",
            "Epoch 28/50\n",
            "3/3 [==============================] - 0s 14ms/step - loss: 0.6068 - accuracy: 0.6375 - val_loss: 0.6125 - val_accuracy: 0.7500\n",
            "Epoch 29/50\n",
            "3/3 [==============================] - 0s 14ms/step - loss: 0.6041 - accuracy: 0.6375 - val_loss: 0.6093 - val_accuracy: 0.7500\n",
            "Epoch 30/50\n",
            "3/3 [==============================] - 0s 16ms/step - loss: 0.6016 - accuracy: 0.6750 - val_loss: 0.6062 - val_accuracy: 0.8500\n",
            "Epoch 31/50\n",
            "3/3 [==============================] - 0s 19ms/step - loss: 0.5990 - accuracy: 0.7000 - val_loss: 0.6032 - val_accuracy: 0.9000\n",
            "Epoch 32/50\n",
            "3/3 [==============================] - 0s 14ms/step - loss: 0.5962 - accuracy: 0.7375 - val_loss: 0.6003 - val_accuracy: 0.9000\n",
            "Epoch 33/50\n",
            "3/3 [==============================] - 0s 14ms/step - loss: 0.5937 - accuracy: 0.8250 - val_loss: 0.5974 - val_accuracy: 0.9000\n",
            "Epoch 34/50\n",
            "3/3 [==============================] - 0s 14ms/step - loss: 0.5911 - accuracy: 0.8125 - val_loss: 0.5943 - val_accuracy: 0.9000\n",
            "Epoch 35/50\n",
            "3/3 [==============================] - 0s 14ms/step - loss: 0.5886 - accuracy: 0.8125 - val_loss: 0.5913 - val_accuracy: 0.9000\n",
            "Epoch 36/50\n",
            "3/3 [==============================] - 0s 14ms/step - loss: 0.5861 - accuracy: 0.8125 - val_loss: 0.5883 - val_accuracy: 0.9000\n",
            "Epoch 37/50\n",
            "3/3 [==============================] - 0s 15ms/step - loss: 0.5835 - accuracy: 0.8125 - val_loss: 0.5852 - val_accuracy: 0.9000\n",
            "Epoch 38/50\n",
            "3/3 [==============================] - 0s 14ms/step - loss: 0.5811 - accuracy: 0.8125 - val_loss: 0.5821 - val_accuracy: 0.9000\n",
            "Epoch 39/50\n",
            "3/3 [==============================] - 0s 14ms/step - loss: 0.5786 - accuracy: 0.8250 - val_loss: 0.5789 - val_accuracy: 0.9000\n",
            "Epoch 40/50\n",
            "3/3 [==============================] - 0s 16ms/step - loss: 0.5762 - accuracy: 0.8250 - val_loss: 0.5758 - val_accuracy: 0.9000\n",
            "Epoch 41/50\n",
            "3/3 [==============================] - 0s 14ms/step - loss: 0.5738 - accuracy: 0.8250 - val_loss: 0.5729 - val_accuracy: 0.9000\n",
            "Epoch 42/50\n",
            "3/3 [==============================] - 0s 19ms/step - loss: 0.5714 - accuracy: 0.8250 - val_loss: 0.5700 - val_accuracy: 0.9000\n",
            "Epoch 43/50\n",
            "3/3 [==============================] - 0s 15ms/step - loss: 0.5691 - accuracy: 0.8250 - val_loss: 0.5672 - val_accuracy: 0.9000\n",
            "Epoch 44/50\n",
            "3/3 [==============================] - 0s 14ms/step - loss: 0.5668 - accuracy: 0.8375 - val_loss: 0.5645 - val_accuracy: 0.9000\n",
            "Epoch 45/50\n",
            "3/3 [==============================] - 0s 16ms/step - loss: 0.5646 - accuracy: 0.8375 - val_loss: 0.5618 - val_accuracy: 0.9000\n",
            "Epoch 46/50\n",
            "3/3 [==============================] - 0s 17ms/step - loss: 0.5622 - accuracy: 0.8375 - val_loss: 0.5592 - val_accuracy: 0.9000\n",
            "Epoch 47/50\n",
            "3/3 [==============================] - 0s 14ms/step - loss: 0.5601 - accuracy: 0.8375 - val_loss: 0.5564 - val_accuracy: 0.9000\n",
            "Epoch 48/50\n",
            "3/3 [==============================] - 0s 14ms/step - loss: 0.5579 - accuracy: 0.8250 - val_loss: 0.5539 - val_accuracy: 0.9000\n",
            "Epoch 49/50\n",
            "3/3 [==============================] - 0s 15ms/step - loss: 0.5555 - accuracy: 0.8250 - val_loss: 0.5513 - val_accuracy: 0.9000\n",
            "Epoch 50/50\n",
            "3/3 [==============================] - 0s 14ms/step - loss: 0.5534 - accuracy: 0.8375 - val_loss: 0.5487 - val_accuracy: 0.9000\n"
          ]
        }
      ]
    },
    {
      "cell_type": "code",
      "source": [
        "model_2.evaluate(X_test_norm, y_test)"
      ],
      "metadata": {
        "colab": {
          "base_uri": "https://localhost:8080/"
        },
        "id": "37GrUzQPZOHk",
        "outputId": "8a7ba35d-befb-42f5-f20e-2a425aea965d"
      },
      "execution_count": 32,
      "outputs": [
        {
          "output_type": "stream",
          "name": "stdout",
          "text": [
            "1/1 [==============================] - 0s 97ms/step - loss: 0.5487 - accuracy: 0.9000\n"
          ]
        },
        {
          "output_type": "execute_result",
          "data": {
            "text/plain": [
              "[0.5486716032028198, 0.8999999761581421]"
            ]
          },
          "metadata": {},
          "execution_count": 32
        }
      ]
    },
    {
      "cell_type": "code",
      "source": [
        "plot_decision_boundary(model_2, X_train_norm, y_train)"
      ],
      "metadata": {
        "colab": {
          "base_uri": "https://localhost:8080/",
          "height": 283
        },
        "id": "jl7FxXToZTm0",
        "outputId": "88dae14c-a941-47e3-d9c5-d77d3ca04851"
      },
      "execution_count": 33,
      "outputs": [
        {
          "output_type": "stream",
          "name": "stdout",
          "text": [
            "doing binary classification\n"
          ]
        },
        {
          "output_type": "display_data",
          "data": {
            "text/plain": [
              "<Figure size 432x288 with 1 Axes>"
            ],
            "image/png": "[encoded data removed]"
          },
          "metadata": {
            "needs_background": "light"
          }
        }
      ]
    },
    {
      "cell_type": "code",
      "source": [
        "plot_decision_boundary(model_2, X_test_norm, y_test)"
      ],
      "metadata": {
        "colab": {
          "base_uri": "https://localhost:8080/",
          "height": 283
        },
        "id": "CKvs-1yZZeBC",
        "outputId": "d82896b8-595d-49c4-e427-119245161e7d"
      },
      "execution_count": 34,
      "outputs": [
        {
          "output_type": "stream",
          "name": "stdout",
          "text": [
            "doing binary classification\n"
          ]
        },
        {
          "output_type": "display_data",
          "data": {
            "text/plain": [
              "<Figure size 432x288 with 1 Axes>"
            ],
            "image/png": "[encoded data removed]"
          },
          "metadata": {
            "needs_background": "light"
          }
        }
      ]
    }
  ]
}